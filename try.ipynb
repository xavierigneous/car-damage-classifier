{
 "cells": [
  {
   "cell_type": "code",
   "execution_count": 2,
   "metadata": {},
   "outputs": [],
   "source": [
    "import pandas as pd"
   ]
  },
  {
   "cell_type": "code",
   "execution_count": 18,
   "metadata": {},
   "outputs": [],
   "source": [
    "df=pd.read_csv('via_project_1May2022_0h25m_csv.csv')"
   ]
  },
  {
   "cell_type": "code",
   "execution_count": 19,
   "metadata": {},
   "outputs": [
    {
     "data": {
      "text/html": [
       "<div>\n",
       "<style scoped>\n",
       "    .dataframe tbody tr th:only-of-type {\n",
       "        vertical-align: middle;\n",
       "    }\n",
       "\n",
       "    .dataframe tbody tr th {\n",
       "        vertical-align: top;\n",
       "    }\n",
       "\n",
       "    .dataframe thead th {\n",
       "        text-align: right;\n",
       "    }\n",
       "</style>\n",
       "<table border=\"1\" class=\"dataframe\">\n",
       "  <thead>\n",
       "    <tr style=\"text-align: right;\">\n",
       "      <th></th>\n",
       "      <th>filename</th>\n",
       "      <th>file_size</th>\n",
       "      <th>file_attributes</th>\n",
       "      <th>region_count</th>\n",
       "      <th>region_id</th>\n",
       "      <th>region_shape_attributes</th>\n",
       "      <th>region_attributes</th>\n",
       "    </tr>\n",
       "  </thead>\n",
       "  <tbody>\n",
       "    <tr>\n",
       "      <th>0</th>\n",
       "      <td>9.jpeg</td>\n",
       "      <td>7928</td>\n",
       "      <td>{\"caption\":\"\",\"public_domain\":\"no\",\"image_url\"...</td>\n",
       "      <td>1</td>\n",
       "      <td>0</td>\n",
       "      <td>{\"name\":\"rect\",\"x\":105,\"y\":40,\"width\":117,\"hei...</td>\n",
       "      <td>{\"name\":\"damage\",\"type\":\"unknown\",\"image_quali...</td>\n",
       "    </tr>\n",
       "    <tr>\n",
       "      <th>1</th>\n",
       "      <td>0002.JPEG</td>\n",
       "      <td>7164</td>\n",
       "      <td>{\"caption\":\"\",\"public_domain\":\"no\",\"image_url\"...</td>\n",
       "      <td>1</td>\n",
       "      <td>0</td>\n",
       "      <td>{\"name\":\"rect\",\"x\":26,\"y\":31,\"width\":228,\"heig...</td>\n",
       "      <td>{\"name\":\"damaged\",\"type\":\"unknown\",\"image_qual...</td>\n",
       "    </tr>\n",
       "    <tr>\n",
       "      <th>2</th>\n",
       "      <td>0003.JPEG</td>\n",
       "      <td>5426</td>\n",
       "      <td>{\"caption\":\"\",\"public_domain\":\"no\",\"image_url\"...</td>\n",
       "      <td>1</td>\n",
       "      <td>0</td>\n",
       "      <td>{\"name\":\"rect\",\"x\":17,\"y\":46,\"width\":109,\"heig...</td>\n",
       "      <td>{\"name\":\"damaged\",\"type\":\"unknown\",\"image_qual...</td>\n",
       "    </tr>\n",
       "    <tr>\n",
       "      <th>3</th>\n",
       "      <td>0004.JPEG</td>\n",
       "      <td>7165</td>\n",
       "      <td>{\"caption\":\"\",\"public_domain\":\"no\",\"image_url\"...</td>\n",
       "      <td>1</td>\n",
       "      <td>0</td>\n",
       "      <td>{\"name\":\"rect\",\"x\":12,\"y\":38,\"width\":122,\"heig...</td>\n",
       "      <td>{\"name\":\"damaged\",\"type\":\"unknown\",\"image_qual...</td>\n",
       "    </tr>\n",
       "    <tr>\n",
       "      <th>4</th>\n",
       "      <td>0005.JPEG</td>\n",
       "      <td>7047</td>\n",
       "      <td>{\"caption\":\"\",\"public_domain\":\"no\",\"image_url\"...</td>\n",
       "      <td>1</td>\n",
       "      <td>0</td>\n",
       "      <td>{\"name\":\"rect\",\"x\":130,\"y\":57,\"width\":80,\"heig...</td>\n",
       "      <td>{\"name\":\"damaged\",\"type\":\"unknown\",\"image_qual...</td>\n",
       "    </tr>\n",
       "  </tbody>\n",
       "</table>\n",
       "</div>"
      ],
      "text/plain": [
       "    filename  file_size                                    file_attributes  \\\n",
       "0     9.jpeg       7928  {\"caption\":\"\",\"public_domain\":\"no\",\"image_url\"...   \n",
       "1  0002.JPEG       7164  {\"caption\":\"\",\"public_domain\":\"no\",\"image_url\"...   \n",
       "2  0003.JPEG       5426  {\"caption\":\"\",\"public_domain\":\"no\",\"image_url\"...   \n",
       "3  0004.JPEG       7165  {\"caption\":\"\",\"public_domain\":\"no\",\"image_url\"...   \n",
       "4  0005.JPEG       7047  {\"caption\":\"\",\"public_domain\":\"no\",\"image_url\"...   \n",
       "\n",
       "   region_count  region_id                            region_shape_attributes  \\\n",
       "0             1          0  {\"name\":\"rect\",\"x\":105,\"y\":40,\"width\":117,\"hei...   \n",
       "1             1          0  {\"name\":\"rect\",\"x\":26,\"y\":31,\"width\":228,\"heig...   \n",
       "2             1          0  {\"name\":\"rect\",\"x\":17,\"y\":46,\"width\":109,\"heig...   \n",
       "3             1          0  {\"name\":\"rect\",\"x\":12,\"y\":38,\"width\":122,\"heig...   \n",
       "4             1          0  {\"name\":\"rect\",\"x\":130,\"y\":57,\"width\":80,\"heig...   \n",
       "\n",
       "                                   region_attributes  \n",
       "0  {\"name\":\"damage\",\"type\":\"unknown\",\"image_quali...  \n",
       "1  {\"name\":\"damaged\",\"type\":\"unknown\",\"image_qual...  \n",
       "2  {\"name\":\"damaged\",\"type\":\"unknown\",\"image_qual...  \n",
       "3  {\"name\":\"damaged\",\"type\":\"unknown\",\"image_qual...  \n",
       "4  {\"name\":\"damaged\",\"type\":\"unknown\",\"image_qual...  "
      ]
     },
     "execution_count": 19,
     "metadata": {},
     "output_type": "execute_result"
    }
   ],
   "source": [
    "df=df[df['region_count']==1]\n",
    "df.head()"
   ]
  },
  {
   "cell_type": "code",
   "execution_count": 36,
   "metadata": {},
   "outputs": [],
   "source": [
    "lo={df['region_shape_attributes'][0].strip('{\"\"}')}"
   ]
  },
  {
   "cell_type": "code",
   "execution_count": 41,
   "metadata": {},
   "outputs": [
    {
     "ename": "AttributeError",
     "evalue": "'set' object has no attribute 'items'",
     "output_type": "error",
     "traceback": [
      "\u001b[1;31m---------------------------------------------------------------------------\u001b[0m",
      "\u001b[1;31mAttributeError\u001b[0m                            Traceback (most recent call last)",
      "\u001b[1;32m~\\AppData\\Local\\Temp/ipykernel_16380/1677881120.py\u001b[0m in \u001b[0;36m<module>\u001b[1;34m\u001b[0m\n\u001b[1;32m----> 1\u001b[1;33m \u001b[0mlo\u001b[0m\u001b[1;33m.\u001b[0m\u001b[0mitems\u001b[0m\u001b[1;33m(\u001b[0m\u001b[1;33m)\u001b[0m\u001b[1;33m\u001b[0m\u001b[1;33m\u001b[0m\u001b[0m\n\u001b[0m",
      "\u001b[1;31mAttributeError\u001b[0m: 'set' object has no attribute 'items'"
     ]
    }
   ],
   "source": [
    "lo.items()"
   ]
  },
  {
   "cell_type": "code",
   "execution_count": null,
   "metadata": {},
   "outputs": [],
   "source": []
  }
 ],
 "metadata": {
  "interpreter": {
   "hash": "7ff6e71cad15a0c44102962cd1a8a418bf3615bbd0d2764bafb992f9f96741c0"
  },
  "kernelspec": {
   "display_name": "Python 3.9.7 ('base')",
   "language": "python",
   "name": "python3"
  },
  "language_info": {
   "codemirror_mode": {
    "name": "ipython",
    "version": 3
   },
   "file_extension": ".py",
   "mimetype": "text/x-python",
   "name": "python",
   "nbconvert_exporter": "python",
   "pygments_lexer": "ipython3",
   "version": "3.9.7"
  },
  "orig_nbformat": 4
 },
 "nbformat": 4,
 "nbformat_minor": 2
}
