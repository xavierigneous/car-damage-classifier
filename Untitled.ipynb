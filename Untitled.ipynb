{
 "cells": [
  {
   "cell_type": "code",
   "execution_count": 1,
   "id": "ccdc628c",
   "metadata": {},
   "outputs": [],
   "source": [
    "import pandas as pd"
   ]
  },
  {
   "cell_type": "code",
   "execution_count": 3,
   "id": "8d6b96e8",
   "metadata": {},
   "outputs": [],
   "source": [
    "df=pd.read_json('via_project_1May2022_0h25m_json.json', orient='records')"
   ]
  },
  {
   "cell_type": "code",
   "execution_count": 10,
   "id": "21fa3780",
   "metadata": {},
   "outputs": [
    {
     "data": {
      "text/plain": [
       "{'shape_attributes': {'name': 'rect',\n",
       "  'x': 105,\n",
       "  'y': 40,\n",
       "  'width': 117,\n",
       "  'height': 147},\n",
       " 'region_attributes': {'name': 'damage',\n",
       "  'type': 'unknown',\n",
       "  'image_quality': {'good': True, 'good_illumination': True, 'frontal': True}}}"
      ]
     },
     "execution_count": 10,
     "metadata": {},
     "output_type": "execute_result"
    }
   ],
   "source": [
    "df.T['regions'][0][0]"
   ]
  }
 ],
 "metadata": {
  "kernelspec": {
   "display_name": "Python 3 (ipykernel)",
   "language": "python",
   "name": "python3"
  },
  "language_info": {
   "codemirror_mode": {
    "name": "ipython",
    "version": 3
   },
   "file_extension": ".py",
   "mimetype": "text/x-python",
   "name": "python",
   "nbconvert_exporter": "python",
   "pygments_lexer": "ipython3",
   "version": "3.9.7"
  }
 },
 "nbformat": 4,
 "nbformat_minor": 5
}
